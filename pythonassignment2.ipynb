{
 "cells": [
  {
   "cell_type": "code",
   "execution_count": 12,
   "metadata": {
    "collapsed": false
   },
   "outputs": [
    {
     "name": "stdout",
     "output_type": "stream",
     "text": [
      "\"Python is a great language!\", said Fred. \"I don't ever remember having this much fun before.\" \n"
     ]
    }
   ],
   "source": [
    "'''1)  Create a variable, paragraph, that has the following content: \n",
    "\"Python is a great language!\", said Fred. \"I don't ever remember having this much fun before.\" \n",
    " '''\n",
    "paragraph= '\"Python is a great language!\", said Fred. \"I don\\'t ever remember having this much fun before.\" '\n",
    "print(paragraph)"
   ]
  },
  {
   "cell_type": "code",
   "execution_count": 4,
   "metadata": {
    "cocalc": {
     "outputs": {
      "0": {
       "name": "input",
       "opts": {
        "password": false,
        "prompt": "Enter the year"
       },
       "output_type": "stream",
       "value": "2016"
      }
     }
    },
    "collapsed": false
   },
   "outputs": [
    {
     "name": "stdout",
     "output_type": "stream",
     "text": "Enter the year 2016"
    },
    {
     "name": "stdout",
     "output_type": "stream",
     "text": [
      "2016  is leap year\n"
     ]
    }
   ],
   "source": [
    "'''2. Write an if statement to determine whether a variable holding a year \n",
    "is a leap year.\n",
    "'''\n",
    "year=int(input(\"Enter the year\"))\n",
    "if year%4 is 0:\n",
    "    print(\"{0}  is leap year\".format(year))\n",
    "else:\n",
    "    print(\"{0} is not a leap year\".format(year))"
   ]
  },
  {
   "cell_type": "code",
   "execution_count": 13,
   "metadata": {
    "collapsed": false
   },
   "outputs": [
    {
     "name": "stdout",
     "output_type": "stream",
     "text": [
      "['percussion', 'supersonic', 'car', 'arc']\n"
     ]
    }
   ],
   "source": [
    "'''3. Write code that will print out the anagrams (words that use the same \n",
    "letters) from a paragraph of text. '''\n",
    "\n",
    "word_list = [\"percussion\", \"supersonic\", \"car\", \"tree\", \"boy\", \"girl\", \"arc\"]\n",
    "\n",
    "\n",
    "anagram_list = []\n",
    "for word_1 in word_list: \n",
    "    for word_2 in word_list: \n",
    "        if word_1 != word_2 and (sorted(word_1)==sorted(word_2)):\n",
    "            anagram_list.append(word_1)\n",
    "print(anagram_list)\n",
    "            "
   ]
  },
  {
   "cell_type": "code",
   "execution_count": 2,
   "metadata": {
    "cocalc": {
     "outputs": {
      "0": {
       "name": "input",
       "opts": {
        "password": false,
        "prompt": "Enter the name of the family members or colleagues or friends to append in the list"
       },
       "output_type": "stream",
       "value": "rojina"
      }
     }
    },
    "collapsed": false
   },
   "outputs": [
    {
     "name": "stdout",
     "output_type": "stream",
     "text": "Enter the name of the family members or colleagues or friends to append in the list rojina"
    },
    {
     "name": "stdout",
     "output_type": "stream",
     "text": [
      "['rojina']\n"
     ]
    }
   ],
   "source": [
    "''' 4. Create a list. Append the names of your colleagues and friends to it. Has the id of the list changed? Sort the list. What is the first item on the list? What is the second item on the list? \n",
    "'''\n",
    "\n",
    "\n",
    "community_list=[]\n",
    "name=input(\"Enter the name of the family members or colleagues or friends to append in the list\")\n",
    "community_list.append(name)\n",
    "print(community_list)\n"
   ]
  },
  {
   "cell_type": "code",
   "execution_count": 12,
   "metadata": {
    "collapsed": false
   },
   "outputs": [
    {
     "name": "stdout",
     "output_type": "stream",
     "text": [
      "[('Rojina', 'Maharjan', 21), ('Babita', 'Ramtel', 21), ('Kajol', 'Lama', 22)]\n"
     ]
    }
   ],
   "source": [
    "'''5) Create a tuple with your first name, last name, and age. Create a list, \n",
    "people, and append your tuple to it. Make more tuples with the corresponding information from your friends and append them to the list. Sort the list. When you learn about sort method, you can use the key parameter to sort by any field in the tuple, first name, last name, or age. \n",
    "'''\n",
    "\n",
    "\n",
    "\n",
    "def sort_field(l):\n",
    "   # keyword=int(input(\"enter the index through which you want to sort\"))\n",
    "    return l[m]\n",
    "def sorting_list(l):\n",
    "    return sorted(l,key=sort_field)\n",
    "\n",
    "people_info=[('Rojina','Maharjan',21),('Kajol','Lama',22),('Babita','Ramtel',21)]\n",
    "m=2\n",
    "print(sorting_list(people_info))\n",
    "\n",
    "\n",
    "    \n",
    "    \n"
   ]
  },
  {
   "cell_type": "code",
   "execution_count": 4,
   "metadata": {
    "collapsed": false
   },
   "outputs": [
    {
     "name": "stdout",
     "output_type": "stream",
     "text": [
      "Not Found\n"
     ]
    }
   ],
   "source": [
    "'''6)Create a list with the names of friends and colleagues. Search for the \n",
    "name ‘John’ using a for a loop. Print ‘not found’ if you didn't find it. \n",
    "'''\n",
    "\n",
    "created_list=['raj','laxman','hari']\n",
    "for name in created_list:\n",
    "    if name is 'john':\n",
    "        found=1\n",
    "    else:\n",
    "        found=0\n",
    "if found is 0:\n",
    "    print(\"Not Found\")\n"
   ]
  },
  {
   "cell_type": "code",
   "execution_count": 12,
   "metadata": {
    "collapsed": false
   },
   "outputs": [
    {
     "name": "stdout",
     "output_type": "stream",
     "text": [
      "Rojina old\n",
      "Kajol old\n",
      "Babita old\n"
     ]
    }
   ],
   "source": [
    "'''7) Create a list of tuples of first name, last name, and age for your friends and colleagues. If you don't know the age, put in None. Calculate the average age, skipping over any None values. Print out each name, followed by old or young if they are above or below the average age. \n",
    "'''\n",
    "\n",
    "community_info=[('Rojina','Maharjan',21),('Kajol','Lama',25),('Babita','Ramtel',30),('Dbes','Rijal',None)]\n",
    "average=0\n",
    "sum=0\n",
    "for item in community_info:\n",
    "    j = item[2]\n",
    "    if j is not None:\n",
    "        sum=sum+j\n",
    "        average=sum/(len(community_info))\n",
    "        if j>average:\n",
    "            print(item[0],'old')\n",
    "        else:\n",
    "            print(item[0],'young')\n",
    "#print(average)"
   ]
  },
  {
   "cell_type": "code",
   "execution_count": 8,
   "metadata": {
    "cocalc": {
     "outputs": {
      "0": {
       "name": "input",
       "opts": {
        "password": false,
        "prompt": "Enter a number"
       },
       "output_type": "stream",
       "value": "67"
      }
     }
    },
    "collapsed": false
   },
   "outputs": [
    {
     "name": "stdout",
     "output_type": "stream",
     "text": "Enter a number 67"
    },
    {
     "name": "stdout",
     "output_type": "stream",
     "text": [
      " True 67 is a prime number\n"
     ]
    }
   ],
   "source": [
    "'''8)Write a function, is_prime, that takes an integer and returns True if \n",
    "the number is prime and False if the number is not prime.\n",
    "'''\n",
    "\n",
    "input_number=int(input(\"Enter a number\"))\n",
    "def is_prime(num):\n",
    "    if num > 1:\n",
    "        for i in range(2,num):\n",
    "            if num %i is 0:\n",
    "                print(\" False {0} is not a prime number\".format(num))\n",
    "        else:\n",
    "              print(\" True {0} is a prime number\".format(num))\n",
    "   \n",
    "    else:\n",
    "        print(False)\n",
    "is_prime(input_number)"
   ]
  },
  {
   "cell_type": "code",
   "execution_count": 8,
   "metadata": {
    "collapsed": false
   },
   "outputs": [
    {
     "data": {
      "text/plain": [
       "-1"
      ]
     },
     "execution_count": 8,
     "metadata": {
     },
     "output_type": "execute_result"
    }
   ],
   "source": [
    "'''9) Write a binary search function. It should take a sorted sequence and the item it is looking for. It should return the index of the item if found. It should return -1 if the item is not found. ''' \n",
    "\n",
    "\n",
    "def binary_function(list,n):\n",
    "    for i in list:\n",
    "        if  i is n:\n",
    "            print(list.index(i))\n",
    "            \n",
    "        else:\n",
    "            return -1\n",
    "            \n",
    "binary_function([4,5,6,7,8,9],77)\n",
    "\n"
   ]
  },
  {
   "cell_type": "code",
   "execution_count": 19,
   "metadata": {
    "collapsed": false
   },
   "outputs": [
    {
     "data": {
      "text/plain": [
       "'rojina-maharjan-lalitpur'"
      ]
     },
     "execution_count": 19,
     "metadata": {
     },
     "output_type": "execute_result"
    }
   ],
   "source": [
    "'''10) Write a function that takes camel-cased strings (i.e. ThisIsCamelCased), and converts them to snake case (i.e. this_is_camel_cased). Modify the function by adding an argument, separator, so it will also convert to the kebab case (i.e.this-is-camel-case) as well. \n",
    "'''\n",
    "def change_snakecase(str): \n",
    "    i = [str[0].lower()] \n",
    "    for c in str[1:]: \n",
    "        if c.isupper():\n",
    "            i.append('_') \n",
    "            i.append(c.lower()) \n",
    "        else: \n",
    "            i.append(c) \n",
    "      \n",
    "    return ''.join(i)\n",
    "\n",
    "change_snakecase('ThisIsCamelCased')\n",
    "\n",
    "def change_kebabcase(str): \n",
    "    i = [str[0].lower()] \n",
    "    for c in str[1:]: \n",
    "        if c.isupper():\n",
    "            i.append('-') \n",
    "            i.append(c.lower()) \n",
    "        else: \n",
    "            i.append(c) \n",
    "      \n",
    "    return ''.join(i) \n",
    "\n",
    "change_kebabcase('RojinaMaharjanLalitpur')"
   ]
  },
  {
   "cell_type": "code",
   "execution_count": 36,
   "metadata": {
    "collapsed": false
   },
   "outputs": [
    {
     "name": "stdout",
     "output_type": "stream",
     "text": [
      "txt\n",
      "HelloIamwithoutextension\n"
     ]
    }
   ],
   "source": [
    "'''11)Create a variable, filename. Assuming that it has a three-letter extension, and using slice operations, find the extension. For README.txt, the extension should be txt. Write code using slice operations that will give the name without the extension. Does your code work on filenames of arbitrary length? \n",
    "'''\n",
    "\n",
    "filename='HelloIamwithoutextension.txt'\n",
    "extension= filename[-3:]\n",
    "print(extension)\n",
    "filename_without_extension=filename[:-4]\n",
    "print(filename_without_extension)\n"
   ]
  },
  {
   "cell_type": "code",
   "execution_count": 17,
   "metadata": {
    "collapsed": false
   },
   "outputs": [
    {
     "data": {
      "text/plain": [
       "True"
      ]
     },
     "execution_count": 17,
     "metadata": {
     },
     "output_type": "execute_result"
    }
   ],
   "source": [
    "'''12) Create a function, is_palindrome, to determine if a supplied word is \n",
    "the same if the letters are reversed. \n",
    "'''\n",
    "\n",
    "def is_palindrome(word):\n",
    "\n",
    "    letters = list(word)\n",
    "    palindrome = True\n",
    "\n",
    "    for letter in letters:\n",
    "        if letter == letters[-1]:\n",
    "            letters.pop(-1)\n",
    "        else:\n",
    "            palindrome = False\n",
    "            break\n",
    "\n",
    "    return palindrome\n",
    "is_palindrome('madam')\n",
    "\n"
   ]
  },
  {
   "cell_type": "code",
   "execution_count": 33,
   "metadata": {
    "collapsed": false
   },
   "outputs": [
    {
     "name": "stdout",
     "output_type": "stream",
     "text": [
      "None\n"
     ]
    }
   ],
   "source": [
    "'''13) Write a function to write a comma-separated value (CSV) file. It should accept a filename and a list of tuples as parameters. The tuples should have a name, address, and age. The file should create a header row followed by a row for each tuple. '''\n",
    "import csv\n",
    "import os\n",
    "from csv import DictWriter\n",
    "filename='rojinamaharjan.csv'\n",
    "\n",
    "\n",
    "def write_to_csv(list_of_tuple, filename):\n",
    "    if os.path.exists(filename):\n",
    "        with open(filename, write_mode) as csvfile:\n",
    "            writer = DictWriter(csvfile, fieldnames=[\"name\", \"address\", \"age\"])\n",
    "            writer.writeheader()\n",
    "            for each in list_of_tuple:\n",
    "                writer.writerow(each)\n",
    "                print(each)\n",
    "                \n",
    "tuple_param=[('Roji','lubho',21)]\n",
    "print(write_to_csv(tuple_param,'rojinamaharjan.csv'))\n",
    "\n",
    "\n"
   ]
  },
  {
   "cell_type": "code",
   "execution_count": 8,
   "metadata": {
    "cocalc": {
     "outputs": {
      "1": {
       "name": "input",
       "opts": {
        "password": false,
        "prompt": "Please select a action: "
       },
       "output_type": "stream",
       "value": "A"
      },
      "10": {
       "name": "input",
       "opts": {
        "password": false,
        "prompt": "sort by (D)ate or (N)ame:"
       },
       "output_type": "stream",
       "value": "name"
      },
      "12": {
       "name": "input",
       "opts": {
        "password": false,
        "prompt": "Please select a action: "
       },
       "output_type": "stream",
       "value": "E"
      },
      "2": {
       "name": "input",
       "opts": {
        "password": false,
        "prompt": "Enter Name: "
       },
       "output_type": "stream",
       "value": "rojina"
      },
      "3": {
       "name": "input",
       "opts": {
        "password": false,
        "prompt": "Enter Phone Number: "
       },
       "output_type": "stream",
       "value": "9839876345"
      },
      "4": {
       "name": "input",
       "opts": {
        "password": false,
        "prompt": "Enter Email: "
       },
       "output_type": "stream",
       "value": "roji@gmail.com"
      },
      "5": {
       "name": "input",
       "opts": {
        "password": false,
        "prompt": "Date: "
       },
       "output_type": "stream",
       "value": "2020-4-5"
      },
      "6": {
       "name": "input",
       "opts": {
        "password": false,
        "prompt": "Do you want to continue? [y/yes]: "
       },
       "output_type": "stream",
       "value": "n"
      },
      "7": {
       "name": "input",
       "opts": {
        "password": false,
        "prompt": "Please select a action: "
       },
       "output_type": "stream"
      }
     }
    },
    "collapsed": false
   },
   "outputs": [
    {
     "name": "stdout",
     "output_type": "stream",
     "text": [
      "\n",
      "        A: Add\n",
      "        L: List\n",
      "        E: Exit\n",
      "        \n"
     ]
    },
    {
     "name": "stdout",
     "output_type": "stream",
     "text": "Please select a action:  A"
    },
    {
     "name": "stdout",
     "output_type": "stream",
     "text": "Enter Name:  rojina"
    },
    {
     "name": "stdout",
     "output_type": "stream",
     "text": "Enter Phone Number:  9839876345"
    },
    {
     "name": "stdout",
     "output_type": "stream",
     "text": "Enter Email:  roji@gmail.com"
    },
    {
     "name": "stdout",
     "output_type": "stream",
     "text": "Date:  2020-4-5"
    },
    {
     "name": "stdout",
     "output_type": "stream",
     "text": "Do you want to continue? [y/yes]:  n"
    },
    {
     "name": "stdout",
     "output_type": "stream",
     "text": "Please select a action:  "
    },
    {
     "name": "stdout",
     "output_type": "stream",
     "text": [
      "\n",
      "        A: Add\n",
      "        L: List\n",
      "        E: Exit\n",
      "        \n"
     ],
     "value": "L"
    },
    {
     "name": "stdout",
     "output_type": "stream",
     "text": [
      "FullName\t PhoneNumber\t Email\n",
      "==========\n"
     ]
    },
    {
     "name": "stdout",
     "output_type": "stream",
     "text": "sort by (D)ate or (N)ame: name"
    },
    {
     "name": "stdout",
     "output_type": "stream",
     "text": [
      "\n",
      "        A: Add\n",
      "        L: List\n",
      "        E: Exit\n",
      "        \n"
     ]
    },
    {
     "name": "stdout",
     "output_type": "stream",
     "text": "Please select a action:  E"
    }
   ],
   "source": [
    "'''14)  Write a function that reads a CSV file. It should return a list of dictionaries, using the first row as key names, and each subsequent row as values for those keys.'''\n",
    "import csv\n",
    "import os\n",
    "from csv import DictReader, DictWriter\n",
    "filename='rojina.csv'\n",
    "phonebook=[]\n",
    "\n",
    "            \n",
    "def add_item(phonebook, *, name, number, email, added_date):\n",
    "    bookitem = {\"fullname\": \"\", \"number\": \"\", \"email\": \"\", \"added_date\": \"\"}\n",
    "    bookitem[\"fullname\"] = name\n",
    "    bookitem[\"number\"] = number\n",
    "    bookitem[\"email\"] = email\n",
    "    bookitem[\"added_date\"] = added_date\n",
    "    phonebook.append(bookitem)           \n",
    "def write_to_csv(phonebook, filename, write_mode = \"w\"):\n",
    "    with open(filename, write_mode) as csvfile:\n",
    "        writer = DictWriter(csvfile, fieldnames=[\"fullname\", \"number\", \"email\",\"added_date\"])\n",
    "        writer.writeheader()\n",
    "        for each in phonebook:\n",
    "            writer.writerow(each)\n",
    "def add_action():\n",
    "    items = []\n",
    "    while True:\n",
    "        fullname = input(\"Enter Name: \")\n",
    "        if not fullname.strip():\n",
    "            print(\"Fullname cannot be empty. Please continue\")\n",
    "            continue\n",
    "        ph_number = input(\"Enter Phone Number: \")\n",
    "        email = input(\"Enter Email: \")\n",
    "        added_date = input(\"Date: \")\n",
    "        items.append((fullname, ph_number, email, added_date))\n",
    "        char = input(\"Do you want to continue? [y/yes]: \")\n",
    "        if not (char.lower() == \"y\" or char.lower() == \"yes\"):\n",
    "            break\n",
    "    return items\n",
    "def list_items(phonebook):\n",
    "    print(\"FullName\\t PhoneNumber\\t Email\\n==========\", end=\"\\n\")\n",
    "    action = input('sort by (D)ate or (N)ame:')\n",
    "    if action.upper() == 'N':\n",
    "        sorted_name = sorted(phonebook, key=lambda k: k['fullname'])\n",
    "        for item in sorted_name:\n",
    "            print(\"{}\\t {}\\t {}\".format(\n",
    "                item[\"fullname\"], item[\"number\"], item[\"email\"], ['added_date']\n",
    "            ))\n",
    "        print(\"=\" * 10)\n",
    "        \n",
    "        \n",
    "def cli():\n",
    "    global filename\n",
    "    phonebook = []\n",
    "    if os.path.exists(filename):\n",
    "        with open(filename, \"r\") as csvfile:\n",
    "            reader = DictReader(csvfile, fieldnames=[\"fullname\", \"number\", \"email\", \"added_date\"])\n",
    "            next(reader)\n",
    "            phonebook.extend(reader)\n",
    "    while True:\n",
    "        print(\"\"\"\n",
    "        A: Add\n",
    "        L: List\n",
    "        E: Exit\n",
    "        \"\"\")\n",
    "        action = input(\"Please select a action: \")\n",
    "        if action.upper() == \"A\":\n",
    "            collected_items = add_action()\n",
    "            for name, number, email, added_date in collected_items:\n",
    "                add_item(phonebook, name=name, email=email, number=number, added_date=added_date)\n",
    "        elif action.upper() == \"L\":\n",
    "            # list action\n",
    "            list_items(phonebook)\n",
    "        elif action.upper() == \"E\":\n",
    "            write_to_csv(phonebook, filename)\n",
    "            break\n",
    "        else:\n",
    "            print(\"invalid action selected\")\n",
    "# print(__name__)\n",
    "if __name__ == \"__main__\":\n",
    "    cli()\n",
    "\n"
   ]
  },
  {
   "cell_type": "code",
   "execution_count": 1,
   "metadata": {
    "cocalc": {
     "outputs": {
      "1": {
       "name": "input",
       "opts": {
        "password": false,
        "prompt": "Enter the anount you want to deposit:"
       },
       "output_type": "stream",
       "value": "50000"
      },
      "2": {
       "name": "input",
       "opts": {
        "password": false,
        "prompt": "Enter the anount you want to withdraw:"
       },
       "output_type": "stream",
       "value": "6000"
      }
     }
    },
    "collapsed": false
   },
   "outputs": [
    {
     "name": "stdout",
     "output_type": "stream",
     "text": [
      "Welcome to Banking Application. You can withdraw and deposit balance\n"
     ]
    },
    {
     "name": "stdout",
     "output_type": "stream",
     "text": "Enter the anount you want to deposit: 50000"
    },
    {
     "name": "stdout",
     "output_type": "stream",
     "text": "Enter the anount you want to withdraw: 6000"
    },
    {
     "name": "stdout",
     "output_type": "stream",
     "text": [
      "the balance that you have is 44000\n"
     ]
    }
   ],
   "source": [
    "'''15) Imagine you are designing a banking application. What would a customer look like? What attributes would she have? What methods would she have? \n",
    "\n",
    "'''\n",
    "\n",
    "class bankingapplication:\n",
    "    def __init__(self):\n",
    "        self.balance=0\n",
    "        print(\"Welcome to Banking Application. You can withdraw and deposit balance\")\n",
    "        \n",
    "  \n",
    "    \n",
    "    def deposit_balance(self):\n",
    "        amount=int(input(\"Enter the amount you want to deposit:\"))\n",
    "        self.balance+=amount\n",
    "        \n",
    "    def withdraw_balance(self):\n",
    "        amount=int(input(\"Enter the amount you want to withdraw:\"))\n",
    "        if amount>=self.balance:\n",
    "            print(\"Balance not sufficient\")\n",
    "        else:\n",
    "            self.balance=self.balance-amount\n",
    "         \n",
    "                 \n",
    "    def display_information(self):\n",
    "        print(\"the balance that you have is {0}\".format(self.balance))\n",
    "        \n",
    "    \n",
    "b=bankingapplication()\n",
    "b.deposit_balance()\n",
    "b.withdraw_balance()\n",
    "b.display_information()\n",
    "\n",
    "    "
   ]
  },
  {
   "cell_type": "code",
   "execution_count": 0,
   "metadata": {
    "collapsed": false
   },
   "outputs": [
   ],
   "source": [
    "'''16) Imagine you are creating a Super Mario game. You need to define a class to represent Mario. What would it look like? If you aren't familiar with SuperMario, use your own favorite video or board game to model a player. \n",
    "'''\n",
    "\n",
    "class super_mario:\n",
    "    def __init__(self,name,age,height):\n",
    "        self.name=name\n",
    "        self.age=age\n",
    "        self.height=height\n",
    "    def printinfo(self):\n",
    "        print(self.name, self.age,self.height)\n",
    "      \n",
    "class mario(super_mario):\n",
    "    \n",
    "    \n",
    "    "
   ]
  },
  {
   "cell_type": "code",
   "execution_count": 5,
   "metadata": {
    "cocalc": {
     "outputs": {
      "0": {
       "name": "input",
       "opts": {
        "password": false,
        "prompt": "enter the 1st number"
       },
       "output_type": "stream",
       "value": "7"
      },
      "1": {
       "name": "input",
       "opts": {
        "password": false,
        "prompt": "Enter the second number"
       },
       "output_type": "stream",
       "value": "5"
      },
      "2": {
       "name": "input",
       "opts": {
        "password": false,
        "prompt": "Enter the operator"
       },
       "output_type": "stream",
       "value": "+"
      }
     }
    },
    "collapsed": false
   },
   "outputs": [
    {
     "name": "stdout",
     "output_type": "stream",
     "text": "enter the 1st number 7"
    },
    {
     "name": "stdout",
     "output_type": "stream",
     "text": "Enter the second number 5"
    },
    {
     "name": "stdout",
     "output_type": "stream",
     "text": "Enter the operator +"
    },
    {
     "name": "stdout",
     "output_type": "stream",
     "text": [
      "the sum of 7 and 5 is 12\n"
     ]
    }
   ],
   "source": [
    "'''17)Write a program that serves as a basic calculator. It asks for two numbers, then it asks for an operator. Gracefully deal with input that doesn't cleanly convert to numbers. Deal with division by zero errors. '''\n",
    "\n",
    "\n",
    "\n",
    "def add_numbers(a,b):\n",
    "    sum=0\n",
    "    sum=a+b\n",
    "    return sum\n",
    "\n",
    "def sub_numbers(a,b):\n",
    "    diff=0\n",
    "    diff=a-b\n",
    "    return diff\n",
    "def mul_numbers(a,b):\n",
    "    mul=1\n",
    "    mul=a*b\n",
    "    return mul\n",
    "def div_numbers(a,b):\n",
    "    quotient=1\n",
    "    try:\n",
    "        quotient=a/b\n",
    "        return quotient\n",
    "    except:\n",
    "        print(\"Zero Error\")\n",
    "try:\n",
    "    num1 = int(input(\"enter the 1st number\"))\n",
    "    num2 = int(input(\"Enter the second number\"))\n",
    "    operator = input(\"Enter the operator\")\n",
    "except:\n",
    "    print(\" Please enter the number values\")\n",
    "while operator is not None:\n",
    "    if operator=='+':\n",
    "        result=add_numbers(num1,num2)\n",
    "        print(\"the sum of {0} and {1} is {2}\".format(num1,num2,result))\n",
    "    elif operator=='-':\n",
    "        sub_numbers(num1,num2)\n",
    "    elif operator=='*':\n",
    "        mul_numbers(num1,num2)\n",
    "    elif operator=='/':\n",
    "        div_numbers(num1,num2)\n",
    "    else:\n",
    "        print(\"Operator not defined\")\n",
    "    break\n",
    "\n",
    "\n",
    "\n",
    "        \n",
    "        \n",
    "\n"
   ]
  },
  {
   "cell_type": "code",
   "execution_count": 10,
   "metadata": {
    "collapsed": false
   },
   "outputs": [
    {
     "name": "stdout",
     "output_type": "stream",
     "text": [
      "{\"name\": \"rojina\", \"age\": 21}\n"
     ]
    }
   ],
   "source": [
    "'''18)Find a package in the Python standard library for dealing with JSON. Import the library module and inspect the attributes of the module. Use the help function to learn more about how to use the module. Serialize a dictionary mapping 'name' to your name and 'age' to your age, to a JSON string. Deserialize the JSON back into Python. \n",
    "'''\n",
    "\n",
    "import json\n",
    "self_info={\n",
    "    'name':'rojina',\n",
    "    'age' : 21\n",
    "}\n",
    "\n",
    "b=json.dumps(self_info)\n",
    "print(b)\n"
   ]
  },
  {
   "cell_type": "code",
   "execution_count": 12,
   "metadata": {
    "collapsed": false
   },
   "outputs": [
    {
     "name": "stdout",
     "output_type": "stream",
     "text": [
      "{[]{()}} - Valid\n",
      "[{}{})(] - invalid\n"
     ]
    }
   ],
   "source": [
    "'''19) Write a Python class to find validity of a string of parentheses, '(', ')', '{', '}', '[' and ']. These brackets must be close in the correct order, for example \"()\" and \"()[]{}\" are valid but \"[)\", \"({[)]\" and \"{{{\" are invalid\n",
    " '''\n",
    "open_list = [\"[\",\"{\",\"(\"] \n",
    "close_list = [\"]\",\"}\",\")\"] \n",
    "  \n",
    "# Function to check parentheses \n",
    "def check(myStr): \n",
    "    stack = [] \n",
    "    for i in myStr: \n",
    "        if i in open_list: \n",
    "            stack.append(i) \n",
    "        elif i in close_list: \n",
    "            pos = close_list.index(i) \n",
    "            if ((len(stack) > 0) and\n",
    "                (open_list[pos] == stack[len(stack)-1])): \n",
    "                stack.pop() \n",
    "            else: \n",
    "                return \"invalid\"\n",
    "    if len(stack) == 0: \n",
    "        return \"Valid\"\n",
    "    else: \n",
    "        return \"Invalid\"\n",
    "  \n",
    "  \n",
    "# Driver code \n",
    "string = \"{[]{()}}\"\n",
    "print(string,\"-\", check(string)) \n",
    "  \n",
    "string = \"[{}{})(]\"\n",
    "print(string,\"-\", check(string)) \n",
    "  \n"
   ]
  },
  {
   "cell_type": "code",
   "execution_count": 6,
   "metadata": {
    "collapsed": false
   },
   "outputs": [
    {
     "name": "stdout",
     "output_type": "stream",
     "text": [
      "[[-9, 4, 5]]\n"
     ]
    }
   ],
   "source": [
    "'''20)  Write a Python class to find the three elements that sum to zero \n",
    "from a list of n real numbers\n",
    "'''\n",
    "class sumtozero:\n",
    "    def threeSum(self, nums):\n",
    "        nums, result, i = sorted(nums), [], 0\n",
    "        while i < (len(nums) - 2):\n",
    "            j, k = i + 1, len(nums) - 1\n",
    "            while j < k:\n",
    "                if nums[i] + nums[j] + nums[k] < 0:\n",
    "                    j += 1\n",
    "                elif nums[i] + nums[j] + nums[k] > 0:\n",
    "                    k -= 1\n",
    "                else:\n",
    "                    result.append([nums[i], nums[j], nums[k]])\n",
    "                    j, k = j + 1, k - 1\n",
    "                    while j < k and nums[j] == nums[j - 1]:\n",
    "                        j += 1\n",
    "                    while j < k and nums[k] == nums[k + 1]:\n",
    "                        k -= 1\n",
    "            i += 1\n",
    "            while i < len(nums) - 2 and nums[i] == nums[i - 1]:\n",
    "                i += 1\n",
    "        return result\n",
    "\n",
    "print(sumtozero().threeSum([9,4,5,-4,5,6,-7,-9,-8,6,-3]))\n",
    "\n"
   ]
  },
  {
   "cell_type": "code",
   "execution_count": 0,
   "metadata": {
    "collapsed": false
   },
   "outputs": [
   ],
   "source": [
   ]
  }
 ],
 "metadata": {
  "kernelspec": {
   "display_name": "Python 3 (system-wide)",
   "language": "python",
   "metadata": {
    "cocalc": {
     "description": "Python 3 programming language",
     "priority": 100,
     "url": "https://www.python.org/"
    }
   },
   "name": "python3"
  },
  "language_info": {
   "codemirror_mode": {
    "name": "ipython",
    "version": 3
   },
   "file_extension": ".py",
   "mimetype": "text/x-python",
   "name": "python",
   "nbconvert_exporter": "python",
   "pygments_lexer": "ipython3",
   "version": "3.6.9"
  }
 },
 "nbformat": 4,
 "nbformat_minor": 4
}